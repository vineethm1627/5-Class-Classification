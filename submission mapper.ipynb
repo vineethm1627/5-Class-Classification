{
 "cells": [
  {
   "cell_type": "code",
   "execution_count": 2,
   "metadata": {},
   "outputs": [
    {
     "data": {
      "text/html": [
       "<div>\n",
       "<style scoped>\n",
       "    .dataframe tbody tr th:only-of-type {\n",
       "        vertical-align: middle;\n",
       "    }\n",
       "\n",
       "    .dataframe tbody tr th {\n",
       "        vertical-align: top;\n",
       "    }\n",
       "\n",
       "    .dataframe thead th {\n",
       "        text-align: right;\n",
       "    }\n",
       "</style>\n",
       "<table border=\"1\" class=\"dataframe\">\n",
       "  <thead>\n",
       "    <tr style=\"text-align: right;\">\n",
       "      <th></th>\n",
       "      <th>filename</th>\n",
       "      <th>animal_type</th>\n",
       "    </tr>\n",
       "  </thead>\n",
       "  <tbody>\n",
       "    <tr>\n",
       "      <th>0</th>\n",
       "      <td>e030b20928e90021d85a5854ee454296eb70e3c818b413...</td>\n",
       "      <td>4</td>\n",
       "    </tr>\n",
       "    <tr>\n",
       "      <th>1</th>\n",
       "      <td>e030b20929e90021d85a5854ee454296eb70e3c818b413...</td>\n",
       "      <td>1</td>\n",
       "    </tr>\n",
       "    <tr>\n",
       "      <th>2</th>\n",
       "      <td>e030b2092be90021d85a5854ee454296eb70e3c818b413...</td>\n",
       "      <td>1</td>\n",
       "    </tr>\n",
       "    <tr>\n",
       "      <th>3</th>\n",
       "      <td>e030b2092ce90021d85a5854ee454296eb70e3c818b413...</td>\n",
       "      <td>1</td>\n",
       "    </tr>\n",
       "    <tr>\n",
       "      <th>4</th>\n",
       "      <td>e030b2092de90021d85a5854ee454296eb70e3c818b413...</td>\n",
       "      <td>1</td>\n",
       "    </tr>\n",
       "  </tbody>\n",
       "</table>\n",
       "</div>"
      ],
      "text/plain": [
       "                                            filename  animal_type\n",
       "0  e030b20928e90021d85a5854ee454296eb70e3c818b413...            4\n",
       "1  e030b20929e90021d85a5854ee454296eb70e3c818b413...            1\n",
       "2  e030b2092be90021d85a5854ee454296eb70e3c818b413...            1\n",
       "3  e030b2092ce90021d85a5854ee454296eb70e3c818b413...            1\n",
       "4  e030b2092de90021d85a5854ee454296eb70e3c818b413...            1"
      ]
     },
     "execution_count": 2,
     "metadata": {},
     "output_type": "execute_result"
    }
   ],
   "source": [
    "import pandas as pd\n",
    "\n",
    "df = pd.read_csv(\"submission.csv\")\n",
    "df.head()"
   ]
  },
  {
   "cell_type": "code",
   "execution_count": 3,
   "metadata": {},
   "outputs": [
    {
     "data": {
      "text/plain": [
       "{0: 'elefante', 1: 'farfalla', 2: 'mucca', 3: 'pecora', 4: 'scoiattolo'}"
      ]
     },
     "execution_count": 3,
     "metadata": {},
     "output_type": "execute_result"
    }
   ],
   "source": [
    "animals=[\"elefante\", \"farfalla\", \"mucca\",  \"pecora\", \"scoiattolo\"]\n",
    "label_to_class = {0 : animals[0], 1 : animals[1], 2 : animals[2], 3 : animals[3], 4 : animals[4]}\n",
    "label_to_class"
   ]
  },
  {
   "cell_type": "code",
   "execution_count": 5,
   "metadata": {},
   "outputs": [
    {
     "data": {
      "text/html": [
       "<div>\n",
       "<style scoped>\n",
       "    .dataframe tbody tr th:only-of-type {\n",
       "        vertical-align: middle;\n",
       "    }\n",
       "\n",
       "    .dataframe tbody tr th {\n",
       "        vertical-align: top;\n",
       "    }\n",
       "\n",
       "    .dataframe thead th {\n",
       "        text-align: right;\n",
       "    }\n",
       "</style>\n",
       "<table border=\"1\" class=\"dataframe\">\n",
       "  <thead>\n",
       "    <tr style=\"text-align: right;\">\n",
       "      <th></th>\n",
       "      <th>filename</th>\n",
       "      <th>animal_type</th>\n",
       "      <th>animal</th>\n",
       "    </tr>\n",
       "  </thead>\n",
       "  <tbody>\n",
       "    <tr>\n",
       "      <th>0</th>\n",
       "      <td>e030b20928e90021d85a5854ee454296eb70e3c818b413...</td>\n",
       "      <td>4</td>\n",
       "      <td>scoiattolo</td>\n",
       "    </tr>\n",
       "    <tr>\n",
       "      <th>1</th>\n",
       "      <td>e030b20929e90021d85a5854ee454296eb70e3c818b413...</td>\n",
       "      <td>1</td>\n",
       "      <td>farfalla</td>\n",
       "    </tr>\n",
       "    <tr>\n",
       "      <th>2</th>\n",
       "      <td>e030b2092be90021d85a5854ee454296eb70e3c818b413...</td>\n",
       "      <td>1</td>\n",
       "      <td>farfalla</td>\n",
       "    </tr>\n",
       "    <tr>\n",
       "      <th>3</th>\n",
       "      <td>e030b2092ce90021d85a5854ee454296eb70e3c818b413...</td>\n",
       "      <td>1</td>\n",
       "      <td>farfalla</td>\n",
       "    </tr>\n",
       "    <tr>\n",
       "      <th>4</th>\n",
       "      <td>e030b2092de90021d85a5854ee454296eb70e3c818b413...</td>\n",
       "      <td>1</td>\n",
       "      <td>farfalla</td>\n",
       "    </tr>\n",
       "    <tr>\n",
       "      <th>5</th>\n",
       "      <td>e030b20a20e90021d85a5854ee454296eb70e3c818b413...</td>\n",
       "      <td>1</td>\n",
       "      <td>farfalla</td>\n",
       "    </tr>\n",
       "    <tr>\n",
       "      <th>6</th>\n",
       "      <td>e032b10b2df21c22d2524518b7444f92e37fe5d404b014...</td>\n",
       "      <td>0</td>\n",
       "      <td>elefante</td>\n",
       "    </tr>\n",
       "    <tr>\n",
       "      <th>7</th>\n",
       "      <td>e032b5082ef61c22d2524518b7444f92e37fe5d404b014...</td>\n",
       "      <td>3</td>\n",
       "      <td>pecora</td>\n",
       "    </tr>\n",
       "    <tr>\n",
       "      <th>8</th>\n",
       "      <td>e034b80f2ff61c22d2524518b7444f92e37fe5d404b014...</td>\n",
       "      <td>4</td>\n",
       "      <td>scoiattolo</td>\n",
       "    </tr>\n",
       "    <tr>\n",
       "      <th>9</th>\n",
       "      <td>e037b00b2af41c22d2524518b7444f92e37fe5d404b014...</td>\n",
       "      <td>3</td>\n",
       "      <td>pecora</td>\n",
       "    </tr>\n",
       "  </tbody>\n",
       "</table>\n",
       "</div>"
      ],
      "text/plain": [
       "                                            filename  animal_type      animal\n",
       "0  e030b20928e90021d85a5854ee454296eb70e3c818b413...            4  scoiattolo\n",
       "1  e030b20929e90021d85a5854ee454296eb70e3c818b413...            1    farfalla\n",
       "2  e030b2092be90021d85a5854ee454296eb70e3c818b413...            1    farfalla\n",
       "3  e030b2092ce90021d85a5854ee454296eb70e3c818b413...            1    farfalla\n",
       "4  e030b2092de90021d85a5854ee454296eb70e3c818b413...            1    farfalla\n",
       "5  e030b20a20e90021d85a5854ee454296eb70e3c818b413...            1    farfalla\n",
       "6  e032b10b2df21c22d2524518b7444f92e37fe5d404b014...            0    elefante\n",
       "7  e032b5082ef61c22d2524518b7444f92e37fe5d404b014...            3      pecora\n",
       "8  e034b80f2ff61c22d2524518b7444f92e37fe5d404b014...            4  scoiattolo\n",
       "9  e037b00b2af41c22d2524518b7444f92e37fe5d404b014...            3      pecora"
      ]
     },
     "execution_count": 5,
     "metadata": {},
     "output_type": "execute_result"
    }
   ],
   "source": [
    "df['animal'] = df['animal_type'].map(label_to_class)\n",
    "df.head(10)"
   ]
  },
  {
   "cell_type": "code",
   "execution_count": 6,
   "metadata": {},
   "outputs": [],
   "source": [
    "df.to_csv(\"labels.csv\")"
   ]
  },
  {
   "cell_type": "code",
   "execution_count": null,
   "metadata": {},
   "outputs": [],
   "source": []
  }
 ],
 "metadata": {
  "kernelspec": {
   "display_name": "Python 3",
   "language": "python",
   "name": "python3"
  },
  "language_info": {
   "codemirror_mode": {
    "name": "ipython",
    "version": 3
   },
   "file_extension": ".py",
   "mimetype": "text/x-python",
   "name": "python",
   "nbconvert_exporter": "python",
   "pygments_lexer": "ipython3",
   "version": "3.8.3"
  }
 },
 "nbformat": 4,
 "nbformat_minor": 4
}
